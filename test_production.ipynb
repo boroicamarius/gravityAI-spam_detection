{
 "cells": [
  {
   "cell_type": "code",
   "execution_count": 16,
   "metadata": {},
   "outputs": [],
   "source": [
    "import pandas as pd\n",
    "import tensorflow as tf\n",
    "import pickle\n",
    "import nltk\n",
    "import json\n",
    "from tensorflow.keras.preprocessing.text import Tokenizer\n",
    "from tensorflow.keras.preprocessing.sequence import pad_sequences\n",
    "from gravityai import gravityai as grav"
   ]
  },
  {
   "cell_type": "code",
   "execution_count": 17,
   "metadata": {},
   "outputs": [
    {
     "name": "stderr",
     "output_type": "stream",
     "text": [
      "[nltk_data] Downloading package punkt to\n",
      "[nltk_data]     C:\\Users\\boroi\\AppData\\Roaming\\nltk_data...\n",
      "[nltk_data]   Package punkt is already up-to-date!\n"
     ]
    }
   ],
   "source": [
    "nltk.download('punkt')\n",
    "\n",
    "model = tf.keras.models.load_model('model.h5')\n",
    "tokenizer = tf.keras.preprocessing.text.tokenizer_from_json(\n",
    "    json.load(open('tokenizer.json')))"
   ]
  },
  {
   "cell_type": "code",
   "execution_count": 18,
   "metadata": {},
   "outputs": [],
   "source": [
    "inPath =  'test_input.csv'"
   ]
  },
  {
   "cell_type": "code",
   "execution_count": 19,
   "metadata": {},
   "outputs": [
    {
     "name": "stdout",
     "output_type": "stream",
     "text": [
      "0    hello my friend\n",
      "1        how are you\n",
      "2               test\n",
      "3               test\n",
      "4               test\n",
      "Name: strings, dtype: object\n",
      "['hello my friend', 'how are you', 'test', 'test', 'test']\n"
     ]
    }
   ],
   "source": [
    "input = pd.read_csv(inPath)\n",
    "print(input['strings'])\n",
    "\n",
    "input_to_feed = []\n",
    "\n",
    "for index, row in input.iterrows():\n",
    "    input_to_feed.append(' '.join(nltk.tokenize.word_tokenize(row[0])))\n",
    "    \n",
    "print(input_to_feed)"
   ]
  },
  {
   "cell_type": "code",
   "execution_count": 20,
   "metadata": {},
   "outputs": [
    {
     "name": "stdout",
     "output_type": "stream",
     "text": [
      "1/1 [==============================] - 0s 97ms/step\n",
      "           strings  results\n",
      "0  hello my friend  1.00000\n",
      "1      how are you  0.99222\n",
      "2             test  1.00000\n",
      "3             test  1.00000\n",
      "4             test  1.00000\n"
     ]
    }
   ],
   "source": [
    "input['results'] = model.predict(pad_sequences(\n",
    "    tokenizer.texts_to_sequences(input_to_feed), maxlen=200))\n",
    "\n",
    "output = input[['strings', 'results']]\n",
    "print(output)"
   ]
  }
 ],
 "metadata": {
  "kernelspec": {
   "display_name": "Python 3.10.6 64-bit",
   "language": "python",
   "name": "python3"
  },
  "language_info": {
   "codemirror_mode": {
    "name": "ipython",
    "version": 3
   },
   "file_extension": ".py",
   "mimetype": "text/x-python",
   "name": "python",
   "nbconvert_exporter": "python",
   "pygments_lexer": "ipython3",
   "version": "3.10.6"
  },
  "orig_nbformat": 4,
  "vscode": {
   "interpreter": {
    "hash": "52c95d02f1bfe7c59da35d3ff8fa76f7d162251a8bf0068369a0a87df4b3e5e7"
   }
  }
 },
 "nbformat": 4,
 "nbformat_minor": 2
}
