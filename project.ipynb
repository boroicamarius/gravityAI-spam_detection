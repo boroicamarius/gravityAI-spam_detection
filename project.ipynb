{
 "cells": [
  {
   "cell_type": "code",
   "execution_count": 1,
   "metadata": {},
   "outputs": [],
   "source": [
    "import tensorflow as tf\n",
    "import tensorflow_datasets as tfds\n",
    "import pandas as pd\n",
    "import numpy as np"
   ]
  },
  {
   "cell_type": "code",
   "execution_count": 2,
   "metadata": {},
   "outputs": [],
   "source": [
    "LOAD_MODEL = True"
   ]
  },
  {
   "cell_type": "code",
   "execution_count": 3,
   "metadata": {},
   "outputs": [],
   "source": [
    "dataset = pd.read_csv('processed_data.csv').iloc[:,:2]\n",
    "dataset.columns.values[0]='spam'"
   ]
  },
  {
   "cell_type": "code",
   "execution_count": 4,
   "metadata": {},
   "outputs": [
    {
     "name": "stderr",
     "output_type": "stream",
     "text": [
      "[nltk_data] Downloading package stopwords to\n",
      "[nltk_data]     C:\\Users\\boroi\\AppData\\Roaming\\nltk_data...\n",
      "[nltk_data]   Package stopwords is already up-to-date!\n",
      "[nltk_data] Downloading package punkt to\n",
      "[nltk_data]     C:\\Users\\boroi\\AppData\\Roaming\\nltk_data...\n",
      "[nltk_data]   Package punkt is already up-to-date!\n"
     ]
    }
   ],
   "source": [
    "import nltk\n",
    "nltk.download('stopwords')\n",
    "nltk.download('punkt')\n",
    "from nltk.corpus import stopwords\n",
    "from nltk.tokenize import word_tokenize"
   ]
  },
  {
   "cell_type": "code",
   "execution_count": 5,
   "metadata": {},
   "outputs": [],
   "source": [
    "stop_words = set(stopwords.words('english'))"
   ]
  },
  {
   "cell_type": "code",
   "execution_count": 6,
   "metadata": {},
   "outputs": [
    {
     "data": {
      "text/plain": [
       "['hello', 'my', 'friend']"
      ]
     },
     "execution_count": 6,
     "metadata": {},
     "output_type": "execute_result"
    }
   ],
   "source": [
    "nltk.tokenize.word_tokenize('hello my friend')"
   ]
  },
  {
   "cell_type": "code",
   "execution_count": 7,
   "metadata": {},
   "outputs": [],
   "source": [
    "EXPECTED = []\n",
    "filtered_strings  = []\n",
    "for index, row in dataset.iterrows():\n",
    "    try:\n",
    "        word_tokens = word_tokenize(row[1])\n",
    "        filtered_sentence = []\n",
    "        for w in word_tokens:\n",
    "            if w not in stop_words:\n",
    "                filtered_sentence.append(w)\n",
    "        filtered_strings.append(' '.join(filtered_sentence))\n",
    "        EXPECTED.append(row[0])\n",
    "    except:\n",
    "        pass"
   ]
  },
  {
   "cell_type": "code",
   "execution_count": 8,
   "metadata": {},
   "outputs": [
    {
     "name": "stdout",
     "output_type": "stream",
     "text": [
      "Tokenizer Loaded\n"
     ]
    }
   ],
   "source": [
    "from tensorflow.keras.preprocessing.text import Tokenizer\n",
    "from tensorflow.keras.preprocessing.sequence import pad_sequences\n",
    "import json\n",
    "\n",
    "if not LOAD_MODEL:\n",
    "    tokenizer = Tokenizer(num_words = 10000,oov_token='<OOV>')\n",
    "    tokenizer.fit_on_texts(filtered_strings)\n",
    "    \n",
    "    tokenizer_json = tokenizer.to_json()\n",
    "    with open('tokenizer.json', 'w', encoding='utf-8') as f:\n",
    "        f.write(json.dumps(tokenizer_json, ensure_ascii=False))\n",
    "        \n",
    "    print('Tokenizer Created')    \n",
    "else:\n",
    "    with open('tokenizer.json') as f:\n",
    "        data = json.load(f)\n",
    "        tokenizer = tf.keras.preprocessing.text.tokenizer_from_json(data)\n",
    "        \n",
    "    print('Tokenizer Loaded')    \n",
    "    "
   ]
  },
  {
   "cell_type": "code",
   "execution_count": 9,
   "metadata": {},
   "outputs": [],
   "source": [
    "SET_DATA = pad_sequences(tokenizer.texts_to_sequences(filtered_strings),maxlen=200)"
   ]
  },
  {
   "cell_type": "code",
   "execution_count": 10,
   "metadata": {},
   "outputs": [],
   "source": [
    "from tensorflow.keras.models import Sequential"
   ]
  },
  {
   "cell_type": "code",
   "execution_count": 11,
   "metadata": {},
   "outputs": [
    {
     "name": "stdout",
     "output_type": "stream",
     "text": [
      "Model loaded\n",
      "Model: \"sequential\"\n",
      "_________________________________________________________________\n",
      " Layer (type)                Output Shape              Param #   \n",
      "=================================================================\n",
      " dense (Dense)               (None, 70)                14070     \n",
      "                                                                 \n",
      " dense_1 (Dense)             (None, 30)                2130      \n",
      "                                                                 \n",
      " dense_2 (Dense)             (None, 10)                310       \n",
      "                                                                 \n",
      " dense_3 (Dense)             (None, 1)                 11        \n",
      "                                                                 \n",
      "=================================================================\n",
      "Total params: 16,521\n",
      "Trainable params: 16,521\n",
      "Non-trainable params: 0\n",
      "_________________________________________________________________\n"
     ]
    }
   ],
   "source": [
    "from keras.optimizers import SGD\n",
    "\n",
    "if not LOAD_MODEL:\n",
    "    model = Sequential([\n",
    "        tf.keras.layers.Dense(70,input_shape=(200,),activation='relu'),\n",
    "        tf.keras.layers.Dense(30,activation='relu'),\n",
    "        tf.keras.layers.Dense(10,activation='relu'),\n",
    "        tf.keras.layers.Dense(1,activation='sigmoid')\n",
    "    ])\n",
    "    model.compile(loss='mean_absolute_error',optimizer=SGD(lr=0.01),metrics=['accuracy'])\n",
    "else:\n",
    "    model = tf.keras.models.load_model('model.h5')    \n",
    "    print('Model loaded')\n",
    "model.summary()"
   ]
  },
  {
   "cell_type": "code",
   "execution_count": 12,
   "metadata": {},
   "outputs": [],
   "source": [
    "class CustomCallback(tf.keras.callbacks.Callback):\n",
    "    def on_epoch_end(self, epoch, logs=None):\n",
    "        if(epoch % 200 == 0):\n",
    "            print(\"Saving model\")\n",
    "            model.save('model.h5')"
   ]
  },
  {
   "cell_type": "code",
   "execution_count": 13,
   "metadata": {},
   "outputs": [
    {
     "name": "stdout",
     "output_type": "stream",
     "text": [
      "74626 74626\n"
     ]
    }
   ],
   "source": [
    "print(len(SET_DATA),len(EXPECTED))"
   ]
  },
  {
   "cell_type": "code",
   "execution_count": 18,
   "metadata": {},
   "outputs": [
    {
     "name": "stdout",
     "output_type": "stream",
     "text": [
      "Epoch 1/5000\n",
      "1/3 [=========>....................] - ETA: 0s - loss: 0.2510 - accuracy: 0.7492Saving model\n",
      "3/3 [==============================] - 0s 41ms/step - loss: 0.2513 - accuracy: 0.7490\n",
      "Epoch 2/5000\n",
      "3/3 [==============================] - 0s 19ms/step - loss: 0.2633 - accuracy: 0.7369\n",
      "Epoch 3/5000\n",
      "3/3 [==============================] - 0s 19ms/step - loss: 0.2545 - accuracy: 0.7457\n",
      "Epoch 4/5000\n",
      "3/3 [==============================] - 0s 20ms/step - loss: 0.2530 - accuracy: 0.7473\n",
      "Epoch 5/5000\n",
      "3/3 [==============================] - 0s 18ms/step - loss: 0.2530 - accuracy: 0.7474\n",
      "Epoch 6/5000\n",
      "3/3 [==============================] - 0s 18ms/step - loss: 0.2545 - accuracy: 0.7455\n",
      "Epoch 7/5000\n",
      "3/3 [==============================] - 0s 18ms/step - loss: 0.2530 - accuracy: 0.7473\n",
      "Epoch 8/5000\n",
      "3/3 [==============================] - 0s 19ms/step - loss: 0.2594 - accuracy: 0.7408\n",
      "Epoch 9/5000\n",
      "3/3 [==============================] - 0s 18ms/step - loss: 0.2546 - accuracy: 0.7455\n",
      "Epoch 10/5000\n",
      "3/3 [==============================] - 0s 19ms/step - loss: 0.2522 - accuracy: 0.7481\n",
      "Epoch 11/5000\n",
      "3/3 [==============================] - 0s 18ms/step - loss: 0.2518 - accuracy: 0.7484\n",
      "Epoch 12/5000\n",
      "3/3 [==============================] - 0s 18ms/step - loss: 0.2513 - accuracy: 0.7489\n",
      "Epoch 13/5000\n",
      "3/3 [==============================] - 0s 18ms/step - loss: 0.2509 - accuracy: 0.7493\n",
      "Epoch 14/5000\n",
      "3/3 [==============================] - 0s 19ms/step - loss: 0.2507 - accuracy: 0.7496\n",
      "Epoch 15/5000\n",
      "3/3 [==============================] - 0s 18ms/step - loss: 0.2598 - accuracy: 0.7405\n",
      "Epoch 16/5000\n",
      "3/3 [==============================] - 0s 19ms/step - loss: 0.2542 - accuracy: 0.7460\n",
      "Epoch 17/5000\n",
      "3/3 [==============================] - 0s 18ms/step - loss: 0.2528 - accuracy: 0.7474\n",
      "Epoch 18/5000\n",
      "3/3 [==============================] - 0s 18ms/step - loss: 0.2513 - accuracy: 0.7489\n",
      "Epoch 19/5000\n",
      "3/3 [==============================] - 0s 17ms/step - loss: 0.2513 - accuracy: 0.7489\n",
      "Epoch 20/5000\n",
      "3/3 [==============================] - 0s 19ms/step - loss: 0.2609 - accuracy: 0.7395\n",
      "Epoch 21/5000\n",
      "3/3 [==============================] - 0s 18ms/step - loss: 0.2559 - accuracy: 0.7444\n",
      "Epoch 22/5000\n",
      "3/3 [==============================] - 0s 18ms/step - loss: 0.2531 - accuracy: 0.7470\n",
      "Epoch 23/5000\n",
      "3/3 [==============================] - 0s 18ms/step - loss: 0.2517 - accuracy: 0.7485\n",
      "Epoch 24/5000\n",
      "3/3 [==============================] - 0s 18ms/step - loss: 0.2516 - accuracy: 0.7486\n",
      "Epoch 25/5000\n",
      "3/3 [==============================] - 0s 20ms/step - loss: 0.2512 - accuracy: 0.7490\n",
      "Epoch 26/5000\n",
      "3/3 [==============================] - 0s 18ms/step - loss: 0.2581 - accuracy: 0.7421\n",
      "Epoch 27/5000\n",
      "3/3 [==============================] - 0s 18ms/step - loss: 0.2520 - accuracy: 0.7481\n",
      "Epoch 28/5000\n",
      "3/3 [==============================] - 0s 19ms/step - loss: 0.2518 - accuracy: 0.7485\n",
      "Epoch 29/5000\n",
      "3/3 [==============================] - 0s 19ms/step - loss: 0.2507 - accuracy: 0.7495\n",
      "Epoch 30/5000\n",
      "3/3 [==============================] - 0s 19ms/step - loss: 0.2516 - accuracy: 0.7486\n",
      "Epoch 31/5000\n",
      "3/3 [==============================] - 0s 18ms/step - loss: 0.2546 - accuracy: 0.7456\n",
      "Epoch 32/5000\n",
      "3/3 [==============================] - 0s 18ms/step - loss: 0.2549 - accuracy: 0.7453\n",
      "Epoch 33/5000\n",
      "3/3 [==============================] - 0s 18ms/step - loss: 0.2526 - accuracy: 0.7476\n",
      "Epoch 34/5000\n",
      "3/3 [==============================] - 0s 18ms/step - loss: 0.2580 - accuracy: 0.7422\n",
      "Epoch 35/5000\n",
      "3/3 [==============================] - 0s 19ms/step - loss: 0.2520 - accuracy: 0.7483\n",
      "Epoch 36/5000\n",
      "3/3 [==============================] - 0s 19ms/step - loss: 0.2507 - accuracy: 0.7495\n",
      "Epoch 37/5000\n",
      "3/3 [==============================] - 0s 18ms/step - loss: 0.2511 - accuracy: 0.7491\n",
      "Epoch 38/5000\n",
      "3/3 [==============================] - 0s 19ms/step - loss: 0.2508 - accuracy: 0.7494\n",
      "Epoch 39/5000\n",
      "3/3 [==============================] - 0s 18ms/step - loss: 0.2533 - accuracy: 0.7470\n",
      "Epoch 40/5000\n",
      "3/3 [==============================] - 0s 20ms/step - loss: 0.2568 - accuracy: 0.7435\n",
      "Epoch 41/5000\n",
      "3/3 [==============================] - 0s 20ms/step - loss: 0.2553 - accuracy: 0.7450\n",
      "Epoch 42/5000\n",
      "3/3 [==============================] - 0s 19ms/step - loss: 0.2540 - accuracy: 0.7461\n",
      "Epoch 43/5000\n",
      "3/3 [==============================] - 0s 19ms/step - loss: 0.2524 - accuracy: 0.7478\n",
      "Epoch 44/5000\n",
      "3/3 [==============================] - 0s 18ms/step - loss: 0.2521 - accuracy: 0.7480\n",
      "Epoch 45/5000\n",
      "3/3 [==============================] - 0s 18ms/step - loss: 0.2540 - accuracy: 0.7463\n",
      "Epoch 46/5000\n",
      "3/3 [==============================] - 0s 18ms/step - loss: 0.2519 - accuracy: 0.7483\n",
      "Epoch 47/5000\n",
      "3/3 [==============================] - 0s 21ms/step - loss: 0.2513 - accuracy: 0.7489\n",
      "Epoch 48/5000\n",
      "3/3 [==============================] - 0s 19ms/step - loss: 0.2507 - accuracy: 0.7496\n",
      "Epoch 49/5000\n",
      "3/3 [==============================] - 0s 18ms/step - loss: 0.2564 - accuracy: 0.7438\n",
      "Epoch 50/5000\n",
      "3/3 [==============================] - 0s 18ms/step - loss: 0.2517 - accuracy: 0.7485\n",
      "Epoch 51/5000\n",
      "3/3 [==============================] - 0s 27ms/step - loss: 0.2527 - accuracy: 0.7475\n",
      "Epoch 52/5000\n",
      "3/3 [==============================] - 0s 19ms/step - loss: 0.2525 - accuracy: 0.7476\n",
      "Epoch 53/5000\n",
      "3/3 [==============================] - 0s 19ms/step - loss: 0.2507 - accuracy: 0.7495\n",
      "Epoch 54/5000\n",
      "3/3 [==============================] - 0s 17ms/step - loss: 0.2507 - accuracy: 0.7495\n",
      "Epoch 55/5000\n",
      "3/3 [==============================] - 0s 19ms/step - loss: 0.2513 - accuracy: 0.7489\n",
      "Epoch 56/5000\n",
      "3/3 [==============================] - 0s 19ms/step - loss: 0.2509 - accuracy: 0.7493\n",
      "Epoch 57/5000\n",
      "3/3 [==============================] - 0s 18ms/step - loss: 0.2508 - accuracy: 0.7494\n",
      "Epoch 58/5000\n",
      "3/3 [==============================] - 0s 17ms/step - loss: 0.2503 - accuracy: 0.7499\n",
      "Epoch 59/5000\n",
      "3/3 [==============================] - 0s 18ms/step - loss: 0.2510 - accuracy: 0.7492\n",
      "Epoch 60/5000\n",
      "3/3 [==============================] - 0s 18ms/step - loss: 0.2570 - accuracy: 0.7431\n",
      "Epoch 61/5000\n",
      "3/3 [==============================] - 0s 17ms/step - loss: 0.2531 - accuracy: 0.7470\n",
      "Epoch 62/5000\n",
      "3/3 [==============================] - 0s 33ms/step - loss: 0.2560 - accuracy: 0.7443\n",
      "Epoch 63/5000\n",
      "3/3 [==============================] - 0s 19ms/step - loss: 0.2566 - accuracy: 0.7436\n",
      "Epoch 64/5000\n",
      "3/3 [==============================] - 0s 18ms/step - loss: 0.2573 - accuracy: 0.7430\n",
      "Epoch 65/5000\n",
      "3/3 [==============================] - 0s 18ms/step - loss: 0.2517 - accuracy: 0.7485\n",
      "Epoch 66/5000\n",
      "3/3 [==============================] - 0s 18ms/step - loss: 0.2512 - accuracy: 0.7490\n",
      "Epoch 67/5000\n",
      "3/3 [==============================] - 0s 19ms/step - loss: 0.2510 - accuracy: 0.7492\n",
      "Epoch 68/5000\n",
      "3/3 [==============================] - 0s 19ms/step - loss: 0.2509 - accuracy: 0.7494\n",
      "Epoch 69/5000\n",
      "3/3 [==============================] - 0s 18ms/step - loss: 0.2516 - accuracy: 0.7486\n",
      "Epoch 70/5000\n",
      "3/3 [==============================] - 0s 18ms/step - loss: 0.2674 - accuracy: 0.7328\n",
      "Epoch 71/5000\n",
      "3/3 [==============================] - 0s 18ms/step - loss: 0.2530 - accuracy: 0.7473\n",
      "Epoch 72/5000\n",
      "3/3 [==============================] - 0s 17ms/step - loss: 0.2513 - accuracy: 0.7489\n",
      "Epoch 73/5000\n",
      "3/3 [==============================] - 0s 18ms/step - loss: 0.2542 - accuracy: 0.7459\n",
      "Epoch 74/5000\n",
      "3/3 [==============================] - 0s 18ms/step - loss: 0.2512 - accuracy: 0.7490\n",
      "Epoch 75/5000\n",
      "3/3 [==============================] - 0s 34ms/step - loss: 0.2529 - accuracy: 0.7473\n",
      "Epoch 76/5000\n",
      "3/3 [==============================] - 0s 18ms/step - loss: 0.2633 - accuracy: 0.7369\n",
      "Epoch 77/5000\n",
      "3/3 [==============================] - 0s 29ms/step - loss: 0.2582 - accuracy: 0.7422\n",
      "Epoch 78/5000\n",
      "3/3 [==============================] - 0s 17ms/step - loss: 0.2718 - accuracy: 0.7284\n",
      "Epoch 79/5000\n",
      "3/3 [==============================] - 0s 22ms/step - loss: 0.2549 - accuracy: 0.7454\n",
      "Epoch 80/5000\n",
      "3/3 [==============================] - 0s 19ms/step - loss: 0.2550 - accuracy: 0.7454\n",
      "Epoch 81/5000\n",
      "3/3 [==============================] - 0s 18ms/step - loss: 0.2592 - accuracy: 0.7411\n",
      "Epoch 82/5000\n",
      "3/3 [==============================] - 0s 30ms/step - loss: 0.2531 - accuracy: 0.7472\n",
      "Epoch 83/5000\n"
     ]
    }
   ],
   "source": [
    "model.fit(np.array(SET_DATA),np.array(EXPECTED),batch_size=34626,epochs=5000,callbacks=[CustomCallback()])"
   ]
  }
 ],
 "metadata": {
  "kernelspec": {
   "display_name": "Python 3.10.6 64-bit",
   "language": "python",
   "name": "python3"
  },
  "language_info": {
   "codemirror_mode": {
    "name": "ipython",
    "version": 3
   },
   "file_extension": ".py",
   "mimetype": "text/x-python",
   "name": "python",
   "nbconvert_exporter": "python",
   "pygments_lexer": "ipython3",
   "version": "3.10.6"
  },
  "orig_nbformat": 4,
  "vscode": {
   "interpreter": {
    "hash": "52c95d02f1bfe7c59da35d3ff8fa76f7d162251a8bf0068369a0a87df4b3e5e7"
   }
  }
 },
 "nbformat": 4,
 "nbformat_minor": 2
}
